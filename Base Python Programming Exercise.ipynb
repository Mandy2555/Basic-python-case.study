{
 "cells": [
  {
   "cell_type": "markdown",
   "metadata": {},
   "source": [
    "## Python Basic Programming Exercises"
   ]
  },
  {
   "cell_type": "raw",
   "metadata": {},
   "source": [
    "Q1: What is the output of following expression\n",
    "    5 + 4 * 9 % (3 + 1) / 6 - 1"
   ]
  },
  {
   "cell_type": "code",
   "execution_count": null,
   "metadata": {},
   "outputs": [],
   "source": [
    "5 + 4 * 9 % (3 + 1) / 6 - 1"
   ]
  },
  {
   "cell_type": "raw",
   "metadata": {},
   "source": [
    "Q2: Write a program to check if a Number is Odd or Even. Take number as a input from user at runtime."
   ]
  },
  {
   "cell_type": "code",
   "execution_count": 31,
   "metadata": {},
   "outputs": [
    {
     "name": "stdout",
     "output_type": "stream",
     "text": [
      "Input any number 11\n"
     ]
    },
    {
     "name": "stdout",
     "output_type": "stream",
     "text": [
      "Odd\n"
     ]
    }
   ],
   "source": [
    "number=int(input('Input any number'))\n",
    "if(number%2==0):\n",
    "    print('Even')\n",
    "else:\n",
    "    print('Odd')"
   ]
  },
  {
   "cell_type": "raw",
   "metadata": {},
   "source": [
    "Q3: Write a program to display the multiplication table by taking a number as input. \n",
    "    [Hint : Use print statement inside of a loop]"
   ]
  },
  {
   "cell_type": "code",
   "execution_count": 355,
   "metadata": {},
   "outputs": [
    {
     "name": "stdout",
     "output_type": "stream",
     "text": [
      "input any number 33\n"
     ]
    },
    {
     "name": "stdout",
     "output_type": "stream",
     "text": [
      "33 * 1 = 33\n",
      "33 * 2 = 66\n",
      "33 * 3 = 99\n",
      "33 * 4 = 132\n",
      "33 * 5 = 165\n",
      "33 * 6 = 198\n",
      "33 * 7 = 231\n",
      "33 * 8 = 264\n",
      "33 * 9 = 297\n",
      "33 * 10 = 330\n"
     ]
    }
   ],
   "source": [
    "number= int(input('input any number'))\n",
    "for i in range(1,11,1):\n",
    "    print(number , '*' , i , '=' , number*i )"
   ]
  },
  {
   "cell_type": "raw",
   "metadata": {},
   "source": [
    "Q4: Write a program which will find all numbers between 2000 and 3200 which are divisible by 7 \n",
    "    but are not a multiple of 5.\n",
    " \n",
    "Note: The numbers obtained should be printed in a comma-separated sequence on a single line."
   ]
  },
  {
   "cell_type": "code",
   "execution_count": 71,
   "metadata": {},
   "outputs": [
    {
     "name": "stdout",
     "output_type": "stream",
     "text": [
      "2002,2009,2016,2023,2037,2044,2051,2058,2072,2079,2086,2093,2107,2114,2121,2128,2142,2149,2156,2163,2177,2184,2191,2198,2212,2219,2226,2233,2247,2254,2261,2268,2282,2289,2296,2303,2317,2324,2331,2338,2352,2359,2366,2373,2387,2394,2401,2408,2422,2429,2436,2443,2457,2464,2471,2478,2492,2499,2506,2513,2527,2534,2541,2548,2562,2569,2576,2583,2597,2604,2611,2618,2632,2639,2646,2653,2667,2674,2681,2688,2702,2709,2716,2723,2737,2744,2751,2758,2772,2779,2786,2793,2807,2814,2821,2828,2842,2849,2856,2863,2877,2884,2891,2898,2912,2919,2926,2933,2947,2954,2961,2968,2982,2989,2996,3003,3017,3024,3031,3038,3052,3059,3066,3073,3087,3094,3101,3108,3122,3129,3136,3143,3157,3164,3171,3178,3192,3199,"
     ]
    }
   ],
   "source": [
    "for i in range (2000,3200,1):\n",
    "    if (i%7==0 and i%5!=0):\n",
    "        print(i ,end=\",\") "
   ]
  },
  {
   "cell_type": "raw",
   "metadata": {},
   "source": [
    "Q5: Count the elements of each datatype inside the list and display in output\n",
    "    [2, 3, 'Py', '10', 1, 'SQL', 5.5, True, 3, 'John', None, 7]    "
   ]
  },
  {
   "cell_type": "code",
   "execution_count": 109,
   "metadata": {},
   "outputs": [
    {
     "name": "stdout",
     "output_type": "stream",
     "text": [
      "Strings =  4\n",
      "integers =  5\n",
      "boolean =  1\n",
      "floats =  1\n"
     ]
    }
   ],
   "source": [
    "list1= [2, 3, 'Py', '10', 1, 'SQL', 5.5, True, 3, 'John', None, 7]\n",
    "string = 0 \n",
    "integer = 0 \n",
    "boolean = 0 \n",
    "float1 = 0 \n",
    "for i in list1:\n",
    "    if(type(i)==str):\n",
    "        string = string+1\n",
    "    elif (type(i)==int):\n",
    "        integer= integer + 1\n",
    "    elif (type(i)==float):\n",
    "        float1= float1 + 1\n",
    "    elif (type(i)==bool):\n",
    "        boolean= boolean + 1\n",
    "print ('Strings = ' ,string)\n",
    "print('integers = ',integer)\n",
    "print('boolean = ',boolean)\n",
    "print('floats = ',float1)"
   ]
  },
  {
   "cell_type": "raw",
   "metadata": {},
   "source": [
    "Q6: Add all values from the list with numeric datatypes \n",
    "    [2, 3, 'Py', '10', 1, 'SQL', 5.5, True, 3, 'John', None, 7] "
   ]
  },
  {
   "cell_type": "code",
   "execution_count": 123,
   "metadata": {},
   "outputs": [
    {
     "name": "stdout",
     "output_type": "stream",
     "text": [
      "21.5\n"
     ]
    }
   ],
   "source": [
    "list2 = [2, 3, 'Py', '10', 1, 'SQL', 5.5, True, 3, 'John', None, 7] \n",
    "sum = 0\n",
    "for i in list2 :\n",
    "    if(type(i)==int or type(i)==float ):\n",
    "        sum= sum+i\n",
    "print(sum)"
   ]
  },
  {
   "cell_type": "raw",
   "metadata": {},
   "source": [
    "Q7: Concat all str datatypes with hyphen as a delimiter\n",
    "    [2, 3, 'Py', '10', 1, 'SQL', 5.5, True, 3, 'John', None, 7] "
   ]
  },
  {
   "cell_type": "code",
   "execution_count": 127,
   "metadata": {},
   "outputs": [
    {
     "name": "stdout",
     "output_type": "stream",
     "text": [
      " Py-10-SQL-John-\n"
     ]
    }
   ],
   "source": [
    "list3= [2, 3, 'Py', '10', 1, 'SQL', 5.5, True, 3, 'John', None, 7]\n",
    "string = ' ' \n",
    "for i in list2 :\n",
    "    if(type(i)==str):\n",
    "        string= string + i + '-'\n",
    "print(string)"
   ]
  },
  {
   "cell_type": "raw",
   "metadata": {},
   "source": [
    "Q8: Write a UDF that takes list as input and returns sum of all numbers \n",
    "    (exclude bool) and count of all str \n",
    "    [2, 3, 'Py', '10', 1, 'SQL', 5.5, True, 3, 'John', None, 7] \n",
    "    \n",
    "Hint:\n",
    "-----\n",
    "def my_func:\n",
    "    # your code\n",
    "        \n",
    "my_func(l1)\n",
    "# output --> {'Sum': xxx, 'Count_of_Strs': xxx}"
   ]
  },
  {
   "cell_type": "code",
   "execution_count": 217,
   "metadata": {},
   "outputs": [
    {
     "data": {
      "text/plain": [
       "{'Sum': 21.5, 'Count_of_Strs': 4}"
      ]
     },
     "execution_count": 217,
     "metadata": {},
     "output_type": "execute_result"
    }
   ],
   "source": [
    "list3= [2, 3, 'Py', '10', 1, 'SQL', 5.5, True, 3, 'John', None, 7]\n",
    "\n",
    "def my_func(list):\n",
    "    Sum = 0\n",
    "    Count_of_Strs = 0\n",
    "    for i in list:\n",
    "        if(type(i)==str):\n",
    "            Count_of_Strs = Count_of_Strs+1\n",
    "        if (type(i)==int or type(i)==float ):\n",
    "            Sum= Sum+i\n",
    "            \n",
    "    return {'Sum': Sum, 'Count_of_Strs': Count_of_Strs}\n",
    "my_func(list3)"
   ]
  },
  {
   "cell_type": "raw",
   "metadata": {},
   "source": [
    "Q9: Get only odd numbers from the following list and store the numbers in new list\n",
    "    li = [5, 7, 22, 97, 54, 62, 77, 23, 73, 61]\n",
    "\n",
    "    i. Use loops to get the answer\n",
    "   ii. Use list comprehensions\n",
    "  iii. Use list comprehensions"
   ]
  },
  {
   "cell_type": "code",
   "execution_count": 285,
   "metadata": {},
   "outputs": [
    {
     "name": "stdout",
     "output_type": "stream",
     "text": [
      "i. using loops \n",
      "[5, 7, 97, 77, 23, 73, 61]\n",
      "ii. using list comprehensions\n",
      "[5, 7, 97, 77, 23, 73, 61]\n",
      "iii. using list comprehensions\n",
      "[5, 7, 97, 77, 23, 73, 61]\n"
     ]
    }
   ],
   "source": [
    "li = [5, 7, 22, 97, 54, 62, 77, 23, 73, 61]\n",
    "print ('i. using loops ')\n",
    "l2=[]\n",
    "for i in li:\n",
    "    if(i%2 != 0 ):\n",
    "        l2.append(i)\n",
    "print(l2)\n",
    "print('ii. using list comprehensions')\n",
    "odd = [n for n in li if n % 2 != 0]\n",
    "li1=list(odd)\n",
    "print(li1)\n",
    "print ('iii. using list comprehensions' )\n",
    "odd1 = list(filter(lambda x : x%2 !=0 , li))\n",
    "print(odd1)"
   ]
  },
  {
   "cell_type": "raw",
   "metadata": {},
   "source": [
    "Q10: Write a UDF to return the descriptives [sum, count, min, mean, max] for a list of n number of input \n",
    "    numbers."
   ]
  },
  {
   "cell_type": "code",
   "execution_count": 465,
   "metadata": {},
   "outputs": [
    {
     "name": "stdout",
     "output_type": "stream",
     "text": [
      "input numbers 1,2,3,4,5,6,7,8,9,10\n"
     ]
    },
    {
     "data": {
      "text/plain": [
       "(55, 10, 1, 5.5, 10)"
      ]
     },
     "execution_count": 465,
     "metadata": {},
     "output_type": "execute_result"
    }
   ],
   "source": [
    "li = input('input numbers')\n",
    "li = li.split(\",\")\n",
    "\n",
    "l2 = []\n",
    "for j in li:\n",
    "    j = int(j)\n",
    "    l2.append(j)\n",
    "  \n",
    "def Cal(l3):\n",
    "    Sum = 0 \n",
    "    count = 0 \n",
    "    mean = 0 \n",
    "    minimum = min(l3)\n",
    "    maximum = max(l3)\n",
    "    for i in l3:\n",
    "        Sum = Sum+i\n",
    "        count = count + 1    \n",
    "    mean = Sum / count\n",
    "    return Sum , count , minimum , mean , maximum\n",
    "Cal(l2)"
   ]
  },
  {
   "cell_type": "raw",
   "metadata": {},
   "source": [
    "Q11: Write an udf to calculate the area of different shapes\n",
    "\n",
    "Take shape and dimensions as arguments to udf as follows : \n",
    "\n",
    "1. square which has side\n",
    "2. rectangle which has length and width\n",
    "3. circle which has radius\n",
    "\n",
    "The shape should be a positional argument and it's dimensions are taken as kwargs\n",
    "\n",
    "Perform proper validation for the user inputs and then calculate area.\n",
    "\n",
    "E.g. if shape is square, ensure kwargs has \"side\" and if so, then you may return the area, else display appropriate error message like \"Please enter 'side' for a square\""
   ]
  },
  {
   "cell_type": "code",
   "execution_count": 519,
   "metadata": {},
   "outputs": [
    {
     "name": "stdout",
     "output_type": "stream",
     "text": [
      "Enter the shape (square, rectangle, circle):  Rectangle\n",
      "Enter the length of the rectangle:  12\n",
      "Enter the width of the rectangle:  12\n"
     ]
    },
    {
     "name": "stdout",
     "output_type": "stream",
     "text": [
      "144.0\n"
     ]
    }
   ],
   "source": [
    "def calculate_area(shape, **kwargs):\n",
    "    if shape.lower() == \"square\":\n",
    "        if \"side\" in kwargs:\n",
    "            side = kwargs[\"side\"]\n",
    "            if isinstance(side, (int, float)) and side > 0:\n",
    "                return side ** 2\n",
    "            else:\n",
    "                return \"Please enter a valid positive number for 'side' in square\"\n",
    "        else:\n",
    "            return \"Please enter 'side' for a square\"\n",
    "        \n",
    "    elif shape.lower() == \"rectangle\":\n",
    "        if \"length\" in kwargs and \"width\" in kwargs:\n",
    "            length = kwargs[\"length\"]\n",
    "            width = kwargs[\"width\"]\n",
    "            if isinstance(length, (int, float)) and length > 0 and isinstance(width, (int, float)) and width > 0:\n",
    "                return length * width\n",
    "            else:\n",
    "                return \"Please enter valid positive numbers for 'length' and 'width' in rectangle\"\n",
    "        else:\n",
    "            return \"Please enter both 'length' and 'width' for a rectangle\"\n",
    "        \n",
    "    elif shape.lower() == \"circle\":\n",
    "        if \"radius\" in kwargs:\n",
    "            radius = kwargs[\"radius\"]\n",
    "            if isinstance(radius, (int, float)) and radius > 0:\n",
    "                return 3.14159 * (radius ** 2)\n",
    "            else:\n",
    "                return \"Please enter a valid positive number for 'radius' in circle\"\n",
    "        else:\n",
    "            return \"Please enter 'radius' for a circle\"\n",
    "        \n",
    "    else:\n",
    "        return \"Unknown shape! Please choose from 'square', 'rectangle', or 'circle'.\"\n",
    "\n",
    "\n",
    "shape = input(\"Enter the shape (square, rectangle, circle): \").strip().lower()\n",
    "\n",
    "if shape == \"square\":\n",
    "    side = float(input(\"Enter the side of the square: \"))\n",
    "    print(calculate_area(shape, side=side))\n",
    "\n",
    "elif shape == \"rectangle\":\n",
    "    length = float(input(\"Enter the length of the rectangle: \"))\n",
    "    width = float(input(\"Enter the width of the rectangle: \"))\n",
    "    print(calculate_area(shape, length=length, width=width))\n",
    "\n",
    "elif shape == \"circle\":\n",
    "    radius = float(input(\"Enter the radius of the circle: \"))\n",
    "    print(calculate_area(shape, radius=radius))\n",
    "\n",
    "else:\n",
    "    print(\"Invalid shape! Please enter square, rectangle, or circle.\")\n",
    "      "
   ]
  },
  {
   "cell_type": "raw",
   "metadata": {},
   "source": [
    "Q12: Write a UDF to reconcile the values within two lists.\n",
    "    l1 = ['January', 'February', 'March', 'May', 'June', 'September', 'December']\n",
    "    l2 = ['January', 'February', 'April', 'June', 'October', 'December']\n",
    "\n",
    "Hint:\n",
    "-----\n",
    "def func(l1, l2):\n",
    "    your code here...\n",
    "    \n",
    "Output:\n",
    "{'Matched': ['January', 'February', 'June', 'December'],\n",
    "    'Only in l1': ['March', 'May', 'September'],\n",
    "        'Only in l2': ['April', 'October']}"
   ]
  },
  {
   "cell_type": "code",
   "execution_count": 697,
   "metadata": {},
   "outputs": [
    {
     "data": {
      "text/plain": [
       "{'Matched': ['January', 'February', 'June', 'December'],\n",
       " 'only in l1': ['March', 'May', 'September'],\n",
       " 'only in l2': ['April', 'October']}"
      ]
     },
     "execution_count": 697,
     "metadata": {},
     "output_type": "execute_result"
    }
   ],
   "source": [
    "l1 = ['January', 'February', 'March', 'May', 'June', 'September', 'December']\n",
    "l2 = ['January', 'February', 'April', 'June', 'October', 'December']\n",
    "\n",
    "def func(l1, l2):\n",
    "    l3 = [i for i in l1 if i in l2]  # Find elements common to both lists\n",
    "    only_in_l1 = [i for i in l1 if i not in l3]  # Elements unique to l1\n",
    "    only_in_l2 = [i for i in l2 if i not in l3]  # Elements unique to l2\n",
    "    \n",
    "    return {'Matched': l3, 'only in l1': only_in_l1, 'only in l2': only_in_l2}\n",
    "func(l1,l2)"
   ]
  },
  {
   "cell_type": "raw",
   "metadata": {
    "collapsed": true,
    "jupyter": {
     "outputs_hidden": true
    }
   },
   "source": [
    "Q13: write a UDF to check if a number is prime or not."
   ]
  },
  {
   "cell_type": "code",
   "execution_count": 707,
   "metadata": {},
   "outputs": [
    {
     "data": {
      "text/plain": [
       "'not prime'"
      ]
     },
     "execution_count": 707,
     "metadata": {},
     "output_type": "execute_result"
    }
   ],
   "source": [
    "def is_prime(n):\n",
    "    if n>2 :\n",
    "        return 'not prime'\n",
    "    else:\n",
    "        for i in range (2 , n**0.5,1):\n",
    "            if (n%i==0):\n",
    "                return 'not prime' \n",
    "            else:\n",
    "                return prime\n",
    "is_prime (90)"
   ]
  },
  {
   "cell_type": "raw",
   "metadata": {
    "collapsed": true,
    "jupyter": {
     "outputs_hidden": true
    }
   },
   "source": [
    "Q14. Write a program which can compute the factorial of a given numbers. \n",
    "#   The results should be printed in a comma-separated sequence on a single line. \n",
    "# input() function can be used for getting user(console) input\n",
    "\n",
    "\n",
    "#Suppose the input is supplied to the program:  8  \n",
    "#Then, the output should be:  40320 \n",
    "#Hints: In case of input data being supplied to the question, it should be assumed to be a console input. \n"
   ]
  },
  {
   "cell_type": "code",
   "execution_count": 715,
   "metadata": {},
   "outputs": [
    {
     "name": "stdout",
     "output_type": "stream",
     "text": [
      "enter your number 8\n"
     ]
    },
    {
     "data": {
      "text/plain": [
       "40320"
      ]
     },
     "execution_count": 715,
     "metadata": {},
     "output_type": "execute_result"
    }
   ],
   "source": [
    "number = int(input('enter your number'))\n",
    "def factorial(n):\n",
    "    result = 1\n",
    "    for i in range(1, n + 1):\n",
    "        result *= i\n",
    "    return result\n",
    "factorial(number)"
   ]
  },
  {
   "cell_type": "raw",
   "metadata": {
    "collapsed": true,
    "jupyter": {
     "outputs_hidden": true
    }
   },
   "source": [
    "Q15. With a given integral number n, write a program to generate a dictionary that contains (i, i*i) such that is an integral number between 1 and n (both included). and then the program should print the dictionary.\n",
    "\n",
    "#Suppose the following input is supplied to the program: 8\n",
    "#Then, the output should be: {1: 1, 2: 4, 3: 9, 4: 16, 5: 25, 6: 36, 7: 49, 8: 64}\n",
    "#Hints: In case of input data being supplied to the question, it should be assumed to be a console input. Consider using dict()\n",
    "\n"
   ]
  },
  {
   "cell_type": "code",
   "execution_count": 802,
   "metadata": {},
   "outputs": [
    {
     "name": "stdout",
     "output_type": "stream",
     "text": [
      "enter your number 8\n"
     ]
    },
    {
     "data": {
      "text/plain": [
       "({1: 1, 2: 4, 3: 9, 4: 16, 5: 25, 6: 36, 7: 49, 8: 64},)"
      ]
     },
     "execution_count": 802,
     "metadata": {},
     "output_type": "execute_result"
    }
   ],
   "source": [
    "number = int(input('enter your number'))\n",
    "def func(n):\n",
    "    d1 = {}\n",
    "    for i in range(1 , n+1 ):\n",
    "        d1 [i] = i * i\n",
    "        \n",
    "    return d1,\n",
    "func(number)"
   ]
  },
  {
   "cell_type": "raw",
   "metadata": {
    "collapsed": true,
    "jupyter": {
     "outputs_hidden": true
    }
   },
   "source": [
    "Q16. Write a program which accepts a sequence of comma-separated numbers from console and generate a list and a tuple which contains every number.\n",
    "#Suppose the following input is supplied to the program: 34,67,55,33,12,98\n",
    "    #Then, the output should be: ['34', '67', '55', '33', '12', '98'] ('34', '67', '55', '33', '12', '98')\n",
    "\n",
    "#Hints: In case of input data being supplied to the question, it should be assumed to be a console input. you may use tuple() method to convert list to tuple\n"
   ]
  },
  {
   "cell_type": "code",
   "execution_count": 818,
   "metadata": {},
   "outputs": [
    {
     "name": "stdout",
     "output_type": "stream",
     "text": [
      "enter numbers seprated by comme 1,2,3,4\n"
     ]
    },
    {
     "name": "stdout",
     "output_type": "stream",
     "text": [
      "['1', '2', '3', '4']\n",
      "('1', '2', '3', '4')\n"
     ]
    }
   ],
   "source": [
    "numbers = input('enter numbers seprated by comme')\n",
    "l1=numbers.split(sep =\",\")\n",
    "print(l1)\n",
    "t1 = tuple(l1)\n",
    "print(t1)"
   ]
  },
  {
   "cell_type": "markdown",
   "metadata": {
    "collapsed": true,
    "jupyter": {
     "outputs_hidden": true
    }
   },
   "source": [
    "Q18. Write a program that accepts a sequence of whitespace separated words \n",
    " as input and prints the words after removing all duplicate words and sorting them alphanumerically.\n",
    " Suppose the following input is supplied to the program: hello world and practice makes perfect and hello world again\n",
    " Then, the output should be: again and hello makes perfect practice world\n",
    "\n",
    "#Hints: In case of input data being supplied to the question, it should be assumed to be a console input.\n",
    "#We use set container to remove duplicated data automatically and then use sorted() to sort the data.\n"
   ]
  },
  {
   "cell_type": "code",
   "execution_count": 851,
   "metadata": {},
   "outputs": [
    {
     "name": "stdout",
     "output_type": "stream",
     "text": [
      "enter string seprated by space hello world and practice makes perfect and hello world again\n"
     ]
    },
    {
     "name": "stdout",
     "output_type": "stream",
     "text": [
      " again and hello makes perfect practice world \n"
     ]
    }
   ],
   "source": [
    "string = input('enter string seprated by space')\n",
    "s1=string.split(sep=\" \")\n",
    "set1 = set(s1)\n",
    "sorted_set1= sorted(set1)\n",
    "s3 = ' ' \n",
    "for i in sorted_set1:\n",
    "    s3 = s3+ i +' '\n",
    "print(s3)"
   ]
  },
  {
   "cell_type": "raw",
   "metadata": {
    "collapsed": true,
    "jupyter": {
     "outputs_hidden": true
    }
   },
   "source": [
    "Q19. Write a program that accepts a sentence and calculate the number of upper case \n",
    "# letters and lower case letters.\n",
    "#Suppose the following input is supplied to the program: Hello world!\n",
    "#Then, the output should be: UPPER CASE 1 LOWER CASE 9\n",
    "\n",
    "#Hints: In case of input data being supplied to the question, it should be assumed to be a console input.\n"
   ]
  },
  {
   "cell_type": "code",
   "execution_count": 881,
   "metadata": {},
   "outputs": [
    {
     "name": "stdout",
     "output_type": "stream",
     "text": [
      "enter string Hello world\\\n"
     ]
    },
    {
     "name": "stdout",
     "output_type": "stream",
     "text": [
      "UPPER CASE: 1\n",
      "LOWER CASE: 9\n"
     ]
    }
   ],
   "source": [
    "my_string = input('enter string')\n",
    "\n",
    "UPPER_CASE= 0\n",
    "LOWER_CASE = 0\n",
    "\n",
    "for char in my_string:\n",
    "    if char.isupper():\n",
    "        UPPER_CASE += 1\n",
    "    elif char.islower():\n",
    "        LOWER_CASE += 1\n",
    "\n",
    "# Display results\n",
    "print(\"UPPER CASE:\", UPPER_CASE)  # Output: Uppercase letters: 4\n",
    "print(\"LOWER CASE:\", LOWER_CASE)"
   ]
  },
  {
   "cell_type": "raw",
   "metadata": {
    "collapsed": true,
    "jupyter": {
     "outputs_hidden": true
    }
   },
   "source": [
    "Q20. Write a program that takes a string and returns reversed string. i.e. if input is \"abcd123\" output should be \"321dcba\""
   ]
  },
  {
   "cell_type": "code",
   "execution_count": 883,
   "metadata": {},
   "outputs": [
    {
     "name": "stdout",
     "output_type": "stream",
     "text": [
      "Enter a string:  Hello\n"
     ]
    },
    {
     "name": "stdout",
     "output_type": "stream",
     "text": [
      "Reversed string: olleH\n"
     ]
    }
   ],
   "source": [
    "string = input(\"Enter a string: \")\n",
    "\n",
    "reversed_string = string[::-1]\n",
    "\n",
    "print(\"Reversed string:\", reversed_string)"
   ]
  }
 ],
 "metadata": {
  "kernelspec": {
   "display_name": "Python 3 (ipykernel)",
   "language": "python",
   "name": "python3"
  },
  "language_info": {
   "codemirror_mode": {
    "name": "ipython",
    "version": 3
   },
   "file_extension": ".py",
   "mimetype": "text/x-python",
   "name": "python",
   "nbconvert_exporter": "python",
   "pygments_lexer": "ipython3",
   "version": "3.12.4"
  },
  "varInspector": {
   "cols": {
    "lenName": 16,
    "lenType": 16,
    "lenVar": 40
   },
   "kernels_config": {
    "python": {
     "delete_cmd_postfix": "",
     "delete_cmd_prefix": "del ",
     "library": "var_list.py",
     "varRefreshCmd": "print(var_dic_list())"
    },
    "r": {
     "delete_cmd_postfix": ") ",
     "delete_cmd_prefix": "rm(",
     "library": "var_list.r",
     "varRefreshCmd": "cat(var_dic_list()) "
    }
   },
   "types_to_exclude": [
    "module",
    "function",
    "builtin_function_or_method",
    "instance",
    "_Feature"
   ],
   "window_display": false
  }
 },
 "nbformat": 4,
 "nbformat_minor": 4
}
